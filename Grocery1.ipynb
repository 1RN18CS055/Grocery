{
  "nbformat": 4,
  "nbformat_minor": 0,
  "metadata": {
    "colab": {
      "name": "Grocery_Model.ipynb",
      "provenance": []
    },
    "kernelspec": {
      "name": "python3",
      "display_name": "Python 3"
    },
    "accelerator": "TPU"
  },
  "cells": [
    {
      "cell_type": "markdown",
      "metadata": {
        "id": "8Ay3yl-PQgfJ"
      },
      "source": [
        "Importing"
      ]
    },
    {
      "cell_type": "code",
      "metadata": {
        "id": "5A4tKPfAQOER"
      },
      "source": [
        "import numpy as np\n",
        "import pandas as pd\n",
        "import xgboost as xgb\n",
        "from sklearn import metrics, model_selection"
      ],
      "execution_count": 1,
      "outputs": []
    },
    {
      "cell_type": "code",
      "metadata": {
        "id": "U_UbcAeXMUhb",
        "colab": {
          "base_uri": "https://localhost:8080/"
        },
        "outputId": "563ee745-4603-456b-f744-6efb6d056442"
      },
      "source": [
        "from google.colab import drive\n",
        "drive.mount('/content/drive')"
      ],
      "execution_count": 2,
      "outputs": [
        {
          "output_type": "stream",
          "name": "stdout",
          "text": [
            "Mounted at /content/drive\n"
          ]
        }
      ]
    },
    {
      "cell_type": "markdown",
      "metadata": {
        "id": "Ci5OuWsOQsMw"
      },
      "source": [
        "We will predict which products purchased in previous order will be in next order"
      ]
    },
    {
      "cell_type": "code",
      "metadata": {
        "id": "-giaS4w1QiCx",
        "colab": {
          "base_uri": "https://localhost:8080/",
          "height": 206
        },
        "outputId": "7bfb5615-fc24-4ea6-f366-f5e00040ca06"
      },
      "source": [
        "orders_df=pd.read_csv(\"/content/drive/My Drive/Grocery/orders.csv\", usecols=[\"order_id\",\"user_id\",\"order_number\"])\n",
        "orders_df.head()"
      ],
      "execution_count": 3,
      "outputs": [
        {
          "output_type": "execute_result",
          "data": {
            "text/html": [
              "<div>\n",
              "<style scoped>\n",
              "    .dataframe tbody tr th:only-of-type {\n",
              "        vertical-align: middle;\n",
              "    }\n",
              "\n",
              "    .dataframe tbody tr th {\n",
              "        vertical-align: top;\n",
              "    }\n",
              "\n",
              "    .dataframe thead th {\n",
              "        text-align: right;\n",
              "    }\n",
              "</style>\n",
              "<table border=\"1\" class=\"dataframe\">\n",
              "  <thead>\n",
              "    <tr style=\"text-align: right;\">\n",
              "      <th></th>\n",
              "      <th>order_id</th>\n",
              "      <th>user_id</th>\n",
              "      <th>order_number</th>\n",
              "    </tr>\n",
              "  </thead>\n",
              "  <tbody>\n",
              "    <tr>\n",
              "      <th>0</th>\n",
              "      <td>2539329</td>\n",
              "      <td>1</td>\n",
              "      <td>1</td>\n",
              "    </tr>\n",
              "    <tr>\n",
              "      <th>1</th>\n",
              "      <td>2398795</td>\n",
              "      <td>1</td>\n",
              "      <td>2</td>\n",
              "    </tr>\n",
              "    <tr>\n",
              "      <th>2</th>\n",
              "      <td>473747</td>\n",
              "      <td>1</td>\n",
              "      <td>3</td>\n",
              "    </tr>\n",
              "    <tr>\n",
              "      <th>3</th>\n",
              "      <td>2254736</td>\n",
              "      <td>1</td>\n",
              "      <td>4</td>\n",
              "    </tr>\n",
              "    <tr>\n",
              "      <th>4</th>\n",
              "      <td>431534</td>\n",
              "      <td>1</td>\n",
              "      <td>5</td>\n",
              "    </tr>\n",
              "  </tbody>\n",
              "</table>\n",
              "</div>"
            ],
            "text/plain": [
              "   order_id  user_id  order_number\n",
              "0   2539329        1             1\n",
              "1   2398795        1             2\n",
              "2    473747        1             3\n",
              "3   2254736        1             4\n",
              "4    431534        1             5"
            ]
          },
          "metadata": {},
          "execution_count": 3
        }
      ]
    },
    {
      "cell_type": "markdown",
      "metadata": {
        "id": "VUMqTPQdRiLf"
      },
      "source": [
        "We will get the list of all products purchased by the customer"
      ]
    },
    {
      "cell_type": "code",
      "metadata": {
        "id": "IE97FmqtRQLw"
      },
      "source": [
        "order_products__prior_df=pd.read_csv(\"/content/drive/My Drive/Grocery/order_products__prior.csv\")"
      ],
      "execution_count": 4,
      "outputs": []
    },
    {
      "cell_type": "markdown",
      "metadata": {
        "id": "NvhiFyr6SdbG"
      },
      "source": [
        "Let's merge prior with orders and get the user_id"
      ]
    },
    {
      "cell_type": "code",
      "metadata": {
        "id": "5SiIB70SSG6j"
      },
      "source": [
        "order_products__prior_df=pd.merge(order_products__prior_df,orders_df,how=\"inner\",on=\"order_id\")"
      ],
      "execution_count": 5,
      "outputs": []
    },
    {
      "cell_type": "code",
      "metadata": {
        "id": "RGeIC4P9SvPQ"
      },
      "source": [
        "prior_groupd_df=order_products__prior_df.groupby(\"user_id\")[\"order_number\"].aggregate(\"max\").reset_index()"
      ],
      "execution_count": 6,
      "outputs": []
    },
    {
      "cell_type": "code",
      "metadata": {
        "id": "ktTTWzw7S1tf"
      },
      "source": [
        "prior_df_new = pd.merge(order_products__prior_df, prior_groupd_df, how=\"inner\", on=[\"user_id\", \"order_number\"])"
      ],
      "execution_count": 7,
      "outputs": []
    },
    {
      "cell_type": "code",
      "metadata": {
        "id": "JqiXHCkOTLIm"
      },
      "source": [
        "prior_df_new=prior_df_new[[\"user_id\",\"product_id\",\"reordered\"]]"
      ],
      "execution_count": 8,
      "outputs": []
    },
    {
      "cell_type": "code",
      "metadata": {
        "id": "OemAEdFUTR-O",
        "colab": {
          "base_uri": "https://localhost:8080/",
          "height": 206
        },
        "outputId": "e0a02a8e-2af9-449d-d094-7840630ed04f"
      },
      "source": [
        "prior_df_new.columns=[\"user_id\",\"product_id\",\"reordered_latest\"]\n",
        "prior_df_new.head()"
      ],
      "execution_count": 9,
      "outputs": [
        {
          "output_type": "execute_result",
          "data": {
            "text/html": [
              "<div>\n",
              "<style scoped>\n",
              "    .dataframe tbody tr th:only-of-type {\n",
              "        vertical-align: middle;\n",
              "    }\n",
              "\n",
              "    .dataframe tbody tr th {\n",
              "        vertical-align: top;\n",
              "    }\n",
              "\n",
              "    .dataframe thead th {\n",
              "        text-align: right;\n",
              "    }\n",
              "</style>\n",
              "<table border=\"1\" class=\"dataframe\">\n",
              "  <thead>\n",
              "    <tr style=\"text-align: right;\">\n",
              "      <th></th>\n",
              "      <th>user_id</th>\n",
              "      <th>product_id</th>\n",
              "      <th>reordered_latest</th>\n",
              "    </tr>\n",
              "  </thead>\n",
              "  <tbody>\n",
              "    <tr>\n",
              "      <th>0</th>\n",
              "      <td>59897</td>\n",
              "      <td>9755</td>\n",
              "      <td>1</td>\n",
              "    </tr>\n",
              "    <tr>\n",
              "      <th>1</th>\n",
              "      <td>59897</td>\n",
              "      <td>31487</td>\n",
              "      <td>0</td>\n",
              "    </tr>\n",
              "    <tr>\n",
              "      <th>2</th>\n",
              "      <td>59897</td>\n",
              "      <td>37510</td>\n",
              "      <td>1</td>\n",
              "    </tr>\n",
              "    <tr>\n",
              "      <th>3</th>\n",
              "      <td>59897</td>\n",
              "      <td>14576</td>\n",
              "      <td>1</td>\n",
              "    </tr>\n",
              "    <tr>\n",
              "      <th>4</th>\n",
              "      <td>59897</td>\n",
              "      <td>22105</td>\n",
              "      <td>0</td>\n",
              "    </tr>\n",
              "  </tbody>\n",
              "</table>\n",
              "</div>"
            ],
            "text/plain": [
              "   user_id  product_id  reordered_latest\n",
              "0    59897        9755                 1\n",
              "1    59897       31487                 0\n",
              "2    59897       37510                 1\n",
              "3    59897       14576                 1\n",
              "4    59897       22105                 0"
            ]
          },
          "metadata": {},
          "execution_count": 9
        }
      ]
    },
    {
      "cell_type": "markdown",
      "metadata": {
        "id": "ks-xZoeUTa6k"
      },
      "source": [
        "Let's get the total count of each product and numbr of re-orders by customer"
      ]
    },
    {
      "cell_type": "code",
      "metadata": {
        "id": "WTzSkhgRTYHF"
      },
      "source": [
        "order_products__prior_df = order_products__prior_df.groupby([\"user_id\",\"product_id\"])[\"reordered\"].aggregate([\"count\", \"sum\"]).reset_index()"
      ],
      "execution_count": 10,
      "outputs": []
    },
    {
      "cell_type": "code",
      "metadata": {
        "id": "EQLd2j8wT4XE"
      },
      "source": [
        "order_products__prior_df.columns=[\"user_id\",\"product_id\",\"reordered_cnt\",\"reordered_sum\"]"
      ],
      "execution_count": 11,
      "outputs": []
    },
    {
      "cell_type": "markdown",
      "metadata": {
        "id": "njwM_jbE3kjm"
      },
      "source": [
        "Merge prior with new"
      ]
    },
    {
      "cell_type": "code",
      "metadata": {
        "id": "0lPcvyT62Al2",
        "colab": {
          "base_uri": "https://localhost:8080/",
          "height": 206
        },
        "outputId": "af9b1d65-b02a-44f1-852c-c6f75dbab8b8"
      },
      "source": [
        "order_products__prior_df=pd.merge(order_products__prior_df,prior_df_new,how='left',on=['user_id','product_id'])\n",
        "order_products__prior_df.head()"
      ],
      "execution_count": 12,
      "outputs": [
        {
          "output_type": "execute_result",
          "data": {
            "text/html": [
              "<div>\n",
              "<style scoped>\n",
              "    .dataframe tbody tr th:only-of-type {\n",
              "        vertical-align: middle;\n",
              "    }\n",
              "\n",
              "    .dataframe tbody tr th {\n",
              "        vertical-align: top;\n",
              "    }\n",
              "\n",
              "    .dataframe thead th {\n",
              "        text-align: right;\n",
              "    }\n",
              "</style>\n",
              "<table border=\"1\" class=\"dataframe\">\n",
              "  <thead>\n",
              "    <tr style=\"text-align: right;\">\n",
              "      <th></th>\n",
              "      <th>user_id</th>\n",
              "      <th>product_id</th>\n",
              "      <th>reordered_cnt</th>\n",
              "      <th>reordered_sum</th>\n",
              "      <th>reordered_latest</th>\n",
              "    </tr>\n",
              "  </thead>\n",
              "  <tbody>\n",
              "    <tr>\n",
              "      <th>0</th>\n",
              "      <td>1</td>\n",
              "      <td>196</td>\n",
              "      <td>10</td>\n",
              "      <td>9</td>\n",
              "      <td>1.0</td>\n",
              "    </tr>\n",
              "    <tr>\n",
              "      <th>1</th>\n",
              "      <td>1</td>\n",
              "      <td>10258</td>\n",
              "      <td>9</td>\n",
              "      <td>8</td>\n",
              "      <td>1.0</td>\n",
              "    </tr>\n",
              "    <tr>\n",
              "      <th>2</th>\n",
              "      <td>1</td>\n",
              "      <td>10326</td>\n",
              "      <td>1</td>\n",
              "      <td>0</td>\n",
              "      <td>NaN</td>\n",
              "    </tr>\n",
              "    <tr>\n",
              "      <th>3</th>\n",
              "      <td>1</td>\n",
              "      <td>12427</td>\n",
              "      <td>10</td>\n",
              "      <td>9</td>\n",
              "      <td>1.0</td>\n",
              "    </tr>\n",
              "    <tr>\n",
              "      <th>4</th>\n",
              "      <td>1</td>\n",
              "      <td>13032</td>\n",
              "      <td>3</td>\n",
              "      <td>2</td>\n",
              "      <td>1.0</td>\n",
              "    </tr>\n",
              "  </tbody>\n",
              "</table>\n",
              "</div>"
            ],
            "text/plain": [
              "   user_id  product_id  reordered_cnt  reordered_sum  reordered_latest\n",
              "0        1         196             10              9               1.0\n",
              "1        1       10258              9              8               1.0\n",
              "2        1       10326              1              0               NaN\n",
              "3        1       12427             10              9               1.0\n",
              "4        1       13032              3              2               1.0"
            ]
          },
          "metadata": {},
          "execution_count": 12
        }
      ]
    },
    {
      "cell_type": "markdown",
      "metadata": {
        "id": "sRqBs8_M38cS"
      },
      "source": [
        "Let's now read the train and sample submission data and merge with order data to get userid for orderid"
      ]
    },
    {
      "cell_type": "code",
      "metadata": {
        "id": "1s-lFczW3T0q"
      },
      "source": [
        "orders_df.drop([\"order_number\"],axis=1,inplace=True)"
      ],
      "execution_count": 13,
      "outputs": []
    },
    {
      "cell_type": "code",
      "metadata": {
        "id": "M1cosO6s4OwC"
      },
      "source": [
        "order_products__train_df=pd.read_csv(\"/content/drive/My Drive/Grocery/order_products__train.csv\",usecols= ['order_id'])"
      ],
      "execution_count": 14,
      "outputs": []
    },
    {
      "cell_type": "code",
      "metadata": {
        "id": "yHkkGxFg4nQQ"
      },
      "source": [
        "order_products__train_df=order_products__train_df.groupby('order_id').agg(\"count\").reset_index()"
      ],
      "execution_count": 15,
      "outputs": []
    },
    {
      "cell_type": "code",
      "metadata": {
        "id": "Ho4YFsl24wtQ"
      },
      "source": [
        "sample_submission_df=pd.read_csv(\"/content/drive/My Drive/Grocery/sample_submission.csv\",usecols= ['order_id'])"
      ],
      "execution_count": 16,
      "outputs": []
    },
    {
      "cell_type": "code",
      "metadata": {
        "id": "q8B6p3sh5kfc"
      },
      "source": [
        "order_products__train_df = pd.merge(order_products__train_df, orders_df, how=\"inner\", on=\"order_id\")"
      ],
      "execution_count": 17,
      "outputs": []
    },
    {
      "cell_type": "code",
      "metadata": {
        "id": "uR7Jv8ok5t98"
      },
      "source": [
        "sample_submission_df = pd.merge(sample_submission_df, orders_df, how=\"inner\", on=\"order_id\")"
      ],
      "execution_count": 18,
      "outputs": []
    },
    {
      "cell_type": "code",
      "metadata": {
        "id": "XR9H6gc_55fs"
      },
      "source": [
        "test_df=sample_submission_df"
      ],
      "execution_count": 19,
      "outputs": []
    },
    {
      "cell_type": "code",
      "metadata": {
        "id": "m-bsWnVH6D7L",
        "colab": {
          "base_uri": "https://localhost:8080/"
        },
        "outputId": "c245db6f-deca-4df6-b833-5a599fd8dc34"
      },
      "source": [
        "print(order_products__train_df.shape, test_df.shape)"
      ],
      "execution_count": 20,
      "outputs": [
        {
          "output_type": "stream",
          "name": "stdout",
          "text": [
            "(131209, 2) (75000, 2)\n"
          ]
        }
      ]
    },
    {
      "cell_type": "markdown",
      "metadata": {
        "id": "CXKHPqEB6MSE"
      },
      "source": [
        "Now we will merge train and test(sample submission) data with prior data to get products purchase history previously by custmr."
      ]
    },
    {
      "cell_type": "code",
      "metadata": {
        "id": "4MV1AM9n6GEi",
        "colab": {
          "base_uri": "https://localhost:8080/"
        },
        "outputId": "580df30a-0f99-41a0-eb93-cbef3d513b50"
      },
      "source": [
        "order_products__train_df = pd.merge(order_products__train_df, order_products__prior_df, how=\"inner\", on=\"user_id\")\n",
        "test_df = pd.merge(test_df, order_products__prior_df, how=\"inner\", on=\"user_id\")\n",
        "del order_products__prior_df, prior_groupd_df, prior_df_new\n",
        "print(order_products__train_df.shape, test_df.shape)"
      ],
      "execution_count": 21,
      "outputs": [
        {
          "output_type": "stream",
          "name": "stdout",
          "text": [
            "(8474661, 6) (4833292, 6)\n"
          ]
        }
      ]
    },
    {
      "cell_type": "markdown",
      "metadata": {
        "id": "HrQJSuijEcc7"
      },
      "source": [
        "We will now merge train and test on products data as it has department name and aisle"
      ]
    },
    {
      "cell_type": "code",
      "metadata": {
        "id": "UaaGgGVh6_Hf",
        "colab": {
          "base_uri": "https://localhost:8080/"
        },
        "outputId": "5b1cce0e-2e31-4ded-dd7c-0f5cb9ea34a0"
      },
      "source": [
        "products_df=pd.read_csv(\"/content/drive/My Drive/Grocery/products.csv\", usecols=[\"product_id\", \"aisle_id\", \"department_id\"])\n",
        "order_products__train_df = pd.merge(order_products__train_df, products_df, how=\"inner\", on=\"product_id\")\n",
        "test_df = pd.merge(test_df, products_df, how=\"inner\", on=\"product_id\")\n",
        "del products_df\n",
        "print(order_products__train_df.shape, test_df.shape)"
      ],
      "execution_count": 22,
      "outputs": [
        {
          "output_type": "stream",
          "name": "stdout",
          "text": [
            "(8474661, 8) (4833292, 8)\n"
          ]
        }
      ]
    },
    {
      "cell_type": "markdown",
      "metadata": {
        "id": "As9f9KFJJQUY"
      },
      "source": [
        "So, we have all products purchased by customer with necessary features.  Now we will use train data to find if product has been re-ordered in next order"
      ]
    },
    {
      "cell_type": "code",
      "metadata": {
        "id": "lxBxnSEHJB-5"
      },
      "source": [
        "order_products__train_y_df=pd.read_csv(\"/content/drive/My Drive/Grocery/order_products__train.csv\",usecols = [ 'order_id' ,'product_id','reordered'])"
      ],
      "execution_count": 23,
      "outputs": []
    },
    {
      "cell_type": "code",
      "metadata": {
        "id": "qOMVGkhtKgpk"
      },
      "source": [
        "order_products__train_y_df = pd.merge(order_products__train_y_df, orders_df, how=\"inner\", on=\"order_id\")"
      ],
      "execution_count": 24,
      "outputs": []
    },
    {
      "cell_type": "code",
      "metadata": {
        "id": "1-sPpIjKKn4V"
      },
      "source": [
        "order_products__train_y_df = order_products__train_y_df[[\"user_id\", \"product_id\", \"reordered\"]]"
      ],
      "execution_count": 25,
      "outputs": []
    },
    {
      "cell_type": "code",
      "metadata": {
        "id": "LGhOa60RK93E"
      },
      "source": [
        "order_products__train_df=pd.merge(order_products__train_df,order_products__train_y_df,how='left',on = ['user_id','product_id' ])\n",
        "order_products__train_df[ 'reordered' ].fillna(0, inplace = True)"
      ],
      "execution_count": 26,
      "outputs": []
    },
    {
      "cell_type": "code",
      "metadata": {
        "id": "ct91mcqaLX7K",
        "colab": {
          "base_uri": "https://localhost:8080/"
        },
        "outputId": "2b0c4f37-8963-41d7-f695-2938d215ec46"
      },
      "source": [
        "print(order_products__train_df.shape)"
      ],
      "execution_count": 27,
      "outputs": [
        {
          "output_type": "stream",
          "name": "stdout",
          "text": [
            "(8474661, 9)\n"
          ]
        }
      ]
    },
    {
      "cell_type": "code",
      "metadata": {
        "id": "6OE-T_FtLe5x"
      },
      "source": [
        "del order_products__train_y_df"
      ],
      "execution_count": 28,
      "outputs": []
    },
    {
      "cell_type": "markdown",
      "metadata": {
        "id": "VzMFwd2BMUjr"
      },
      "source": [
        "Target variable for train set"
      ]
    },
    {
      "cell_type": "code",
      "metadata": {
        "id": "jkz9YKM-Lv-p"
      },
      "source": [
        "order_products__train_y_df=order_products__train_df.reordered.values"
      ],
      "execution_count": 29,
      "outputs": []
    },
    {
      "cell_type": "code",
      "metadata": {
        "id": "nCXreoD6Q0-t"
      },
      "source": [
        "train_y=order_products__train_y_df"
      ],
      "execution_count": 30,
      "outputs": []
    },
    {
      "cell_type": "markdown",
      "metadata": {
        "id": "CYeR36IFMmS2"
      },
      "source": [
        "df for test-set prediction"
      ]
    },
    {
      "cell_type": "code",
      "metadata": {
        "id": "DfBEMAoeMjg2"
      },
      "source": [
        "test_set_df=test_df[['order_id','product_id']]"
      ],
      "execution_count": 31,
      "outputs": []
    },
    {
      "cell_type": "markdown",
      "metadata": {
        "id": "_41eD3VmQCnv"
      },
      "source": [
        "now we will drop the un-necessary columns"
      ]
    },
    {
      "cell_type": "code",
      "metadata": {
        "id": "O-giaY0DQBgT",
        "colab": {
          "base_uri": "https://localhost:8080/"
        },
        "outputId": "5c2e9777-0c17-4f60-e0d7-73a17872a82b"
      },
      "source": [
        "order_products__train_df = np.array(order_products__train_df.drop([\"order_id\", \"user_id\", \"reordered\"], axis=1))\n",
        "test_df = np.array(test_df.drop([\"order_id\", \"user_id\"], axis=1))\n",
        "print(order_products__train_df.shape, test_df.shape)"
      ],
      "execution_count": 32,
      "outputs": [
        {
          "output_type": "stream",
          "name": "stdout",
          "text": [
            "(8474661, 6) (4833292, 6)\n"
          ]
        }
      ]
    },
    {
      "cell_type": "code",
      "metadata": {
        "id": "izIl5XZrS99W"
      },
      "source": [
        "train_df=order_products__train_df"
      ],
      "execution_count": 33,
      "outputs": []
    },
    {
      "cell_type": "markdown",
      "metadata": {
        "id": "XZwX0FL1QfR1"
      },
      "source": [
        "Define function to run XGBoost Model"
      ]
    },
    {
      "cell_type": "code",
      "metadata": {
        "id": "tkVU26Z1QcvG"
      },
      "source": [
        "def runXGB(train_X, train_y, test_X, test_y=None, feature_names=None, seed_val=0):\n",
        "        params={}\n",
        "        params['objective']='binary:logistic'\n",
        "        params[\"eval_metric\"]=\"logloss\"\n",
        "        params['eta']=0.05\n",
        "        params['subsample']=0.7\n",
        "        params['min_child_weight']=10\n",
        "        params['colsample_bytree']=0.7\n",
        "        params['max_depth']=8\n",
        "        params['silent']=1\n",
        "        params['seed']=seed_val\n",
        "        num_rounds=100\n",
        "        plst=list(params.items())\n",
        "        xgtrain=xgb.DMatrix(train_X,label = train_y)\n",
        "\n",
        "        if test_y is not None:\n",
        "                xgtest=xgb.DMatrix(test_X, label = test_y)\n",
        "                watchlist=[(xgtrain,\"train\"),(xgtest,\"test\") ]\n",
        "                model=xgb.train(plst,xgtrain,num_rounds,watchlist,early_stopping_rounds=50,verbose_eval=10)\n",
        "        else:\n",
        "                xgtest=xgb.DMatrix(test_X)\n",
        "                model=xgb.train(plst,xgtrain,num_rounds)\n",
        "\n",
        "        pred_test_y=model.predict(xgtest)\n",
        "        return pred_test_y"
      ],
      "execution_count": 34,
      "outputs": []
    },
    {
      "cell_type": "markdown",
      "metadata": {
        "id": "Nq5FqEgxSrtg"
      },
      "source": [
        "Let us run the XGB Model We use cut-off value toget prediction\n"
      ]
    },
    {
      "cell_type": "code",
      "metadata": {
        "id": "JqeeoZ4ORx4z"
      },
      "source": [
        "pred=runXGB(train_df,train_y,test_df)\n",
        "del train_df,test_df\n",
        "cutoff = 0.2\n",
        "pred[pred>=cutoff] = 1\n",
        "pred[pred<cutoff] = 0\n",
        "test_set_df[\"Pred\"] = pred\n",
        "test_set_df = test_set_df.loc[test_set_df[\"Pred\"].astype('int')==1]"
      ],
      "execution_count": 35,
      "outputs": []
    },
    {
      "cell_type": "markdown",
      "metadata": {
        "id": "cOpZSHIKTLT4"
      },
      "source": [
        "Now we will merge which has more than 1 product to a single string"
      ]
    },
    {
      "cell_type": "code",
      "metadata": {
        "id": "XXPLYHdkTKry"
      },
      "source": [
        "def merge_products(x):\n",
        "    return \" \".join(list(x.astype('str')))\n",
        "test_set_df=test_set_df.groupby(\"order_id\")[\"product_id\"].agg(merge_products).reset_index()\n",
        "test_set_df.columns=[\"order_id\", \"products\"]"
      ],
      "execution_count": 36,
      "outputs": []
    },
    {
      "cell_type": "code",
      "metadata": {
        "id": "mIfu49wnULbE"
      },
      "source": [
        "sbmt_df=pd.read_csv('/content/drive/My Drive/Grocery/sample_submission.csv',usecols=['order_id'])\n",
        "sbmt_df=pd.merge(sbmt_df,test_set_df,how='left',on='order_id')"
      ],
      "execution_count": 37,
      "outputs": []
    },
    {
      "cell_type": "markdown",
      "metadata": {
        "id": "Nr8syfSpZFTz"
      },
      "source": [
        "when no preidctions fill it with none"
      ]
    },
    {
      "cell_type": "code",
      "metadata": {
        "id": "cvwDFCJUYxoc"
      },
      "source": [
        "sbmt_df[\"products\"].fillna(\"None\",inplace=True)"
      ],
      "execution_count": 38,
      "outputs": []
    },
    {
      "cell_type": "code",
      "metadata": {
        "id": "0OTRAKZeZRRg",
        "colab": {
          "base_uri": "https://localhost:8080/",
          "height": 206
        },
        "outputId": "32029068-25f0-4dbf-cb64-da80aa936624"
      },
      "source": [
        "sbmt_df.head()"
      ],
      "execution_count": 39,
      "outputs": [
        {
          "output_type": "execute_result",
          "data": {
            "text/html": [
              "<div>\n",
              "<style scoped>\n",
              "    .dataframe tbody tr th:only-of-type {\n",
              "        vertical-align: middle;\n",
              "    }\n",
              "\n",
              "    .dataframe tbody tr th {\n",
              "        vertical-align: top;\n",
              "    }\n",
              "\n",
              "    .dataframe thead th {\n",
              "        text-align: right;\n",
              "    }\n",
              "</style>\n",
              "<table border=\"1\" class=\"dataframe\">\n",
              "  <thead>\n",
              "    <tr style=\"text-align: right;\">\n",
              "      <th></th>\n",
              "      <th>order_id</th>\n",
              "      <th>products</th>\n",
              "    </tr>\n",
              "  </thead>\n",
              "  <tbody>\n",
              "    <tr>\n",
              "      <th>0</th>\n",
              "      <td>17</td>\n",
              "      <td>13107 21463</td>\n",
              "    </tr>\n",
              "    <tr>\n",
              "      <th>1</th>\n",
              "      <td>34</td>\n",
              "      <td>47766 2596 13176 16083 39180 39475 44632 44663...</td>\n",
              "    </tr>\n",
              "    <tr>\n",
              "      <th>2</th>\n",
              "      <td>137</td>\n",
              "      <td>5134 2326 23794 24852 25890 29594 41787</td>\n",
              "    </tr>\n",
              "    <tr>\n",
              "      <th>3</th>\n",
              "      <td>182</td>\n",
              "      <td>21903 39275 9337 27104 5479 13629 32109 33000 ...</td>\n",
              "    </tr>\n",
              "    <tr>\n",
              "      <th>4</th>\n",
              "      <td>257</td>\n",
              "      <td>39475 24852 27104 49235 27966 29837 30233 3573...</td>\n",
              "    </tr>\n",
              "  </tbody>\n",
              "</table>\n",
              "</div>"
            ],
            "text/plain": [
              "   order_id                                           products\n",
              "0        17                                        13107 21463\n",
              "1        34  47766 2596 13176 16083 39180 39475 44632 44663...\n",
              "2       137            5134 2326 23794 24852 25890 29594 41787\n",
              "3       182  21903 39275 9337 27104 5479 13629 32109 33000 ...\n",
              "4       257  39475 24852 27104 49235 27966 29837 30233 3573..."
            ]
          },
          "metadata": {},
          "execution_count": 39
        }
      ]
    },
    {
      "cell_type": "code",
      "metadata": {
        "id": "nI6rRRsZZLN-"
      },
      "source": [
        "sbmt_df.to_csv(\"xgb_submission_file.csv\", index=False)"
      ],
      "execution_count": 40,
      "outputs": []
    }
  ]
}